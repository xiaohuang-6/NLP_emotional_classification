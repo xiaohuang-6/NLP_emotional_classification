{
 "cells": [
  {
   "cell_type": "code",
   "execution_count": 1,
   "id": "7a675585-10e3-4d31-8aea-ce7856101178",
   "metadata": {},
   "outputs": [
    {
     "data": {
      "text/plain": [
       "'/hpc/home/cy227/course/Data_Science'"
      ]
     },
     "execution_count": 1,
     "metadata": {},
     "output_type": "execute_result"
    }
   ],
   "source": [
    "import os\n",
    "os.getcwd()"
   ]
  },
  {
   "cell_type": "code",
   "execution_count": 2,
   "id": "bba39179-5273-49d9-a987-d69ff545d1b1",
   "metadata": {},
   "outputs": [],
   "source": [
    "with open('./dataset/anger_raw_data_250.txt', 'r') as file:\n",
    "    df_fear = file.readlines()"
   ]
  },
  {
   "cell_type": "code",
   "execution_count": 3,
   "id": "8f62de64-d74b-46a9-bed6-553a2845ed44",
   "metadata": {},
   "outputs": [
    {
     "name": "stdout",
     "output_type": "stream",
     "text": [
      "Tweet ID: 1909317893281792504\n",
      "content: Great courses that allow parents to share and journey together. Only a few spaces left on each of the courses. Don’t miss out #parenting #support #journey #additionalneeds #anger #family #charity https://t.co/XRUmVhAjcq\n",
      "--------------------------------------------------\n",
      "Tweet ID: 1909311130889294054\n",
      "content: ❤️Mine #KeanuReeves,\n",
      "My #Own Father, He Tells It In His OWN Language I Am #Wife… It Is Just A Word To Him, But It #Angers Me… If I Leave Him: HE WILL BE ALONE… THERE WILL BE NO ONE TO TAKE CARE OF HIM, NOR TO HELP HIM DO\n",
      "HIS WORK… Sometimes He is #ANGER that You #Summoned Me: https://t.co/EJF57y6xwN\n",
      "--------------------------------------------------\n",
      "Tweet ID: 1909295867699527949\n",
      "content: Big March for Furious Frank! #Autism #ADHD #AutismBooms #AutismAwarenessMonth #Anger #AngerManagement https://t.co/0zVNJH4aQi\n"
     ]
    }
   ],
   "source": [
    "for line in df_fear[:10]: \n",
    "    print(line.strip())"
   ]
  },
  {
   "cell_type": "code",
   "execution_count": 4,
   "id": "c17c4a99-7617-4854-afeb-83dfdc1d77e9",
   "metadata": {},
   "outputs": [],
   "source": [
    "df_fear_clean = []\n",
    "capture = False\n",
    "current_content = []\n",
    "i = 1 \n",
    "\n",
    "for line in df_fear:\n",
    "    if line.startswith('content:'):\n",
    "        capture = True\n",
    "        current_content = [line[len('content:'):].strip()]\n",
    "    elif line.startswith('--------------------------------------------------'):\n",
    "        capture = False\n",
    "        content_str = ' '.join(current_content)\n",
    "        df_fear_clean.append(f\"{i}. {content_str}\")\n",
    "        i += 1\n",
    "    elif capture:\n",
    "        current_content.append(line.strip())"
   ]
  },
  {
   "cell_type": "code",
   "execution_count": 18,
   "id": "a3b9f40c-a53e-491e-8485-9cc47f7de4f6",
   "metadata": {},
   "outputs": [
    {
     "data": {
      "text/plain": [
       "['1. Great courses that allow parents to share and journey together. Only a few spaces left on each of the courses. Don’t miss out #parenting #support #journey #additionalneeds #anger #family #charity https://t.co/XRUmVhAjcq',\n",
       " '2. ❤️Mine #KeanuReeves, My #Own Father, He Tells It In His OWN Language I Am #Wife… It Is Just A Word To Him, But It #Angers Me… If I Leave Him: HE WILL BE ALONE… THERE WILL BE NO ONE TO TAKE CARE OF HIM, NOR TO HELP HIM DO HIS WORK… Sometimes He is #ANGER that You #Summoned Me: https://t.co/EJF57y6xwN',\n",
       " '3. Big March for Furious Frank! #Autism #ADHD #AutismBooms #AutismAwarenessMonth #Anger #AngerManagement https://t.co/0zVNJH4aQi',\n",
       " '4. #black #abstractart #art #artlife #artist #artist #artistsoninstagram #artcollector #angel #artwork #anger #artgallery #artlover 一息☕️ついて。 #dank #meIci #Gracias #Obrigado #감사합니다 #謝謝 #Thankyou🖤 #ありがとうございました🙇\\u200d https://t.co/fnNYX0SlHv',\n",
       " '5. #black #abstractart #art #artlife #artist #artist #artistsoninstagram #artcollector #angel #artwork #anger #artgallery #artlover 一息☕️ついて。 #dank #meIci #Gracias #Obrigado #감사합니다 #謝謝 #Thankyou🖤 #ありがとうございました🙇\\u200d https://t.co/ZDioD1PDxr',\n",
       " '6. https://t.co/qEhjcknrGN  #acupuncture #earacupuncture #spa #therapist #jenniferyoung #beauty #training #weightloss #hormonebalance #weight #weightlossadvice #mentalhealth #anxiety #sleep #lowmood #autism #anger #adhd #pain #painrelief #hormones #menopause #womenshealth https://t.co/SZcmBN8CwR',\n",
       " \"7. How Buried Anger Leads to Depression &amp; How To Heal https://t.co/5Z2GLppPB8  When your #brain is working to suppress #anger, it doesn't have energy to thrive and #depression can result. Here's how u heal.  #mentalhealth #anxiety #emotions #psychology #Mondayblues @HilaryJHendel https://t.co/TXP1eO5w0b\",\n",
       " '8. RT @EKRadio_FY: OHLの「Anger」のサビを歌ってもらいました。 すごい！！！ ケンくんちゃんと練習もしてくたんですよ〜〜 #EKradio  #OHL #Anger  @Ken_the_agul',\n",
       " '9. RT @EKRadio_FY: OHLの「Anger」のサビを歌ってもらいました。 すごい！！！ ケンくんちゃんと練習もしてくたんですよ〜〜 #EKradio  #OHL #Anger  @Ken_the_agul',\n",
       " '10. RT @EKRadio_FY: OHLの「Anger」のサビを歌ってもらいました。 すごい！！！ ケンくんちゃんと練習もしてくたんですよ〜〜 #EKradio  #OHL #Anger  @Ken_the_agul',\n",
       " '11. RT @EKRadio_FY: OHLの「Anger」のサビを歌ってもらいました。 すごい！！！ ケンくんちゃんと練習もしてくたんですよ〜〜 #EKradio  #OHL #Anger  @Ken_the_agul',\n",
       " '12. RT @EKRadio_FY: OHLの「Anger」のサビを歌ってもらいました。 すごい！！！ ケンくんちゃんと練習もしてくたんですよ〜〜 #EKradio  #OHL #Anger  @Ken_the_agul',\n",
       " '13. OHLの「Anger」のサビを歌ってもらいました。 すごい！！！ ケンくんちゃんと練習もしてくたんですよ〜〜 #EKradio  #OHL #Anger  @Ken_the_agul',\n",
       " '14. Our latest podcast episode is live! Do you struggle with anger as a Christian? it is something that is my greatest struggle. Join me as I discuss that and what I am going to do about it. #podcast #twgpodcast #talkingwithgod #Chrsitian #anger  https://t.co/9YNREvdVb7',\n",
       " '15. Can hypnotherapy treat your condition? https://t.co/bjFlhq865E  #obsessivecompulsivedisorder #panic #attacks #anger #smoking #weight #drinking #weightloss #loseweight #anxiety #depression #insomnia #stress #IBS #habits https://t.co/I3Zf3TtPgz',\n",
       " '16. #anger(er) https://t.co/TvR8u1xBKd',\n",
       " '17. Most people bury their anger because they were told it’s “bad.” But unprocessed anger becomes depression, addiction, or regret. #anger',\n",
       " \"18. Anger is natural, you need to understand it's natural so you can move past it. . . #anger #angermanagement https://t.co/8I57A2MIiW\",\n",
       " '19. 📣 New Podcast! \"What is your leadership type in your family\" on @Spreaker #academicpressure #anger #bodyimageissues #bodyshaming #bullying #cyberaddictions #depression #moodswings #obesity #ocd #parenting #parentswithteens #peerpressure #selfesteem https://t.co/j2387ixrsL',\n",
       " '20. RT @parentcenterhub: #Irritability &amp; #Anger Can Be Signs of #Depression Depression doesn’t always manifest as a deep and pervasive #Sadness…',\n",
       " '21. #Irritability &amp; #Anger Can Be Signs of #Depression Depression doesn’t always manifest as a deep and pervasive #Sadness. Many children experience it as irritability or anger — but it can be difficult to distinguish from typical #Teenage angst https://t.co/qMecdTkd2v',\n",
       " '22. إدارة #الغضب يمكن أن تكون تحديًا، ولكن تعلم تقنيات التحكم به مثل التنفس العميق أو أخذ استراحة قد يساعد في تقليل تأثيراته السلبية. الاعتراف بالغضب هو أول خطوة نحو التحكم فيه. تعلم كيف تتحكم بغضبك بشكل أفضل في هذا المقال: #dailymedicalinfo #anger  https://t.co/P2l5GExmtV https://t.co/0RUL6prjne',\n",
       " '23. #Anger https://t.co/90ECi7BWup',\n",
       " '24. RT @SSogutma71664: 📲 Sitedeki WhatsApp’tan çekinmeden 7/24 ulaş! 🌐 https://t.co/TYIyqZBvfj  ✨🔮💬  #ebersberg #ismaning #unterhaching #garchi…',\n",
       " '25. 📲 Sitedeki WhatsApp’tan çekinmeden 7/24 ulaş! 🌐 https://t.co/TYIyqZBvfj  ✨🔮💬  #ebersberg #ismaning #unterhaching #garching #anger #frauenkirche #hofbräuhaus #viktualienmarkt #rindermarkt #altehalle #weinstraße #theatinerstraße #residenzstraße #dienerstraße #orlandostraße https://t.co/Y3v3UH4HfK',\n",
       " '26. #verseoftheday #Proverbs25v21to22 #showkindnesstoyourenemy #killthemwithkindness #endangerwithkindness #bitterness #anger #loveyourenemy #love #forgive #mercy #grace #yourcharacter #consecratedtoGod https://t.co/maqrHJAymy',\n",
       " '27. ❤️Mine #KeanuReeves, “There are too many things of 2014…” In 2014, You Did #KnockKnock and I BECAME #ANGER… I RETALIATED: In 2014, You Had 2x XXX Breaking-In! O Mine, THERE ARE TOO MANY THINGS TO LIST… but ABOVE ALL… while I’m away, please focus on the one attached…❤️#Eve.❤️ https://t.co/CfjXRoYl7a',\n",
       " '28. Strategies for mindset shift, inner peace &amp; life excellence⚡️(LIVE SESSION)  #Anxiety #IntrovertBehavior #ComfortZone #Anger #SelfDoubt #multitaskingefficiency #mindfulness #mentalwellbeing #growthmindset https://t.co/k5gBR1rK5N',\n",
       " '29. LAS LENGUAS INGLESA Y ESPAÑOLA de Delfín Carbonell: ENFADADÍSIMO - EXCEEDINGLY ANGRY https://t.co/ET6jw1sWso @lorrainecladish #spanishidioms #anger #enfado #modismosingleses https://t.co/u3svh8tTQe',\n",
       " '30. @realDonaldTrump all these 🇪🇺🏴\\u200d☠️🔵🇺🇳#lunatics, are rushing to steal public money, to implement a lot of nonsense, thinking that they will create a wall that will protect them from #Trump and the #anger of the #crowd, but it will be too late',\n",
       " \"31. #epidemiologiamdpi ✨Today's paper recommendation  #Resilience #Anger and #Insomnia in #Nurses after the End of the #Pandemic Crisis  🔎More details: https://t.co/NI5tLZzRej #epidemiology #OpenAccess https://t.co/gKzp4dXhVD\",\n",
       " '32. Γνώμη κόμματος 👇🏻  - Στο $BTC, $SPX, $NQ θεωρώ ότι είμαστε μεταξύ στην φάση ανάμεσα σε #Euphoria &amp; #Complacency, ίσως δούμε ακόμη leg down μέχρι recovery για double top ή και νέο ATH  - Στα #Alts είμαστε σε φάση #Panic &amp; #Capitulation, σε μερικά ίσως και ανάμεσα σε #Anger &amp; https://t.co/PMCc61K1jG',\n",
       " '33. RT @Crypto_PASOK: Γνώμη κόμματος 👇🏻  - Στο $BTC, $SPX, $NQ θεωρώ ότι είμαστε μεταξύ στην φάση ανάμεσα σε #Euphoria &amp; #Complacency, αναμένω…',\n",
       " '34. Γνώμη κόμματος 👇🏻  - Στο $BTC, $SPX, $NQ θεωρώ ότι είμαστε μεταξύ στην φάση ανάμεσα σε #Euphoria &amp; #Complacency, αναμένω ένα ακόμη leg down μέχρι recovery για double top ή και νέο ATH  - Στα #Alts είμαστε σε φάση #Panic &amp; #Capitulation, σε μερικά ίσως και ανάμεσα σε #Anger &amp; https://t.co/Q1KA4ziwGN',\n",
       " '35. Γνώμη κόμματος 👇🏻  - Στο $BTC, $SPX, $NQ θεωρώ ότι είμαστε μεταξύ στην φάση ανάμεσα σε #Euphoria &amp; #Complacency, αναμένω ένα ακόμη leg down μέχρι recovery για double top.  - Στα #Alts είμαστε σε φάση #Panic &amp; #Capitulation, σε μερικά ίσως και ανάμεσα σε #Anger &amp; #Depression. https://t.co/2kZXUkK2Sb',\n",
       " '36. #Oniverse Livraisons de vos produits favoris dans les villes de France #paris #toulouse #nice #anger #lorien #Montpellier #Strasbourg #Bordeaux #Lille #Rennes #Reims #Toulon #Saint_Étienne #Marseille  https://t.co/ysItGcWxWN Snap 👻: tonyroyalbeuh https://t.co/9xIlj0UaGr',\n",
       " '37. [Video] #roadrage #driving #traffic #anger #MentalHealth #..._42858  https://t.co/vyxAEn2Lna',\n",
       " '38. I wanna kill you and destroy you. I want you died. #scene #anger #fuck #die #hatered',\n",
       " '39. RT @_Isht0_: No sé si comen, pero si lo hacen me imagino tipo: #InsideOutfanart  #insideout #brickstar #joy #anger https://t.co/W6Ec1VFjSz',\n",
       " '40. #religion #buddha #anger #post #ThePost https://t.co/dOhxNksglf',\n",
       " '41. #Impeach #HandsOff #Anger #Trump  https://t.co/hM5fUcWkyQ',\n",
       " '42. EASY WAYS TO EASE ANGER  #Book #BooksWorthReading #Books #Bookstagram #Easy #EasywaystoEaseAnger #ways #Ease #Anger #Education #America #usa https://t.co/69t02HZG60',\n",
       " '43. RT @SunsetBats: It’s safer to feel nothing at all…. #insideout2 #Ennui #Anger #Trauma https://t.co/kJ6IHxML16',\n",
       " \"44. #Republican #senator floats using #violence against #journalists who report '#fake #news' - @NBCNews  \\u2066@SenMullin\\u2069 is the most recent #example of what #toxic #masculinity looks like in the #US: intense #anger; #arrogance; #hostility &amp; #inhumanity! https://t.co/DehRv4VrZX\",\n",
       " '45. RT @221cMori: ANGNUI JUMPSCARE hes yapping about firehawks or something  #insideout2 #insideout2fanart #ennui #anger https://t.co/YZr4EiCYqM',\n",
       " '46. RT @SunsetBats: I still think of them daily, your honor #InsideOut2 #anger #Ennui #Angernnui https://t.co/QfiNO6vvUs',\n",
       " \"47. Na my dear cubs n babycubs.. u must remember that only God can #answer #prayers n IT IS #SIN 2try2STOP any1 frm praying2God.. Such #commotion/#disruption may get u your #salary frm your #sponsors BUT R you OK to bear God's #wrath/#anger for yourself/your family/generations2come?! https://t.co/WnoBpvXB0g\",\n",
       " '48. RT @JDharmaQuotes: The very purpose of religion ~ 14th Dalai Lama https://t.co/V5PpA7JHtS  #14thDalaiLama #jealousy #anger #pride https://t…',\n",
       " '49. Anger is temporary madness. It manages everything badly!  Proverbs 14:17  Pastor Daniel Murage  #goc #globalonlinechurch #beautifulfeet #fypシ゚ #fyp #tiktok #viral #sammieeyo #jccechanginglives #anger #bitterness #pstdanielmurage https://t.co/CIIxfT057J',\n",
       " '50. 👇👇👍👍🎯🎯 #revenge #pettiness #anger #Trump #noonelovesthebuffoon #Canada https://t.co/XXD5BXj0WU']"
      ]
     },
     "execution_count": 18,
     "metadata": {},
     "output_type": "execute_result"
    }
   ],
   "source": [
    "df_fear_clean[:50]"
   ]
  },
  {
   "cell_type": "code",
   "execution_count": 6,
   "id": "d85d6f45-57c3-4dc9-a05a-51fadf2a437f",
   "metadata": {},
   "outputs": [],
   "source": [
    "# clean http\n",
    "import re\n",
    "df_fear_clean2 = [re.sub(r'https?://\\S+', '', tweet) for tweet in df_fear_clean]"
   ]
  },
  {
   "cell_type": "code",
   "execution_count": 19,
   "id": "66f46a25-9bd1-473a-a1b3-3185f668c56a",
   "metadata": {},
   "outputs": [
    {
     "data": {
      "text/plain": [
       "['1. Great courses that allow parents to share and journey together. Only a few spaces left on each of the courses. Don’t miss out #parenting #support #journey #additionalneeds #anger #family #charity ',\n",
       " '2. ❤️Mine #KeanuReeves, My #Own Father, He Tells It In His OWN Language I Am #Wife… It Is Just A Word To Him, But It #Angers Me… If I Leave Him: HE WILL BE ALONE… THERE WILL BE NO ONE TO TAKE CARE OF HIM, NOR TO HELP HIM DO HIS WORK… Sometimes He is #ANGER that You #Summoned Me: ',\n",
       " '3. Big March for Furious Frank! #Autism #ADHD #AutismBooms #AutismAwarenessMonth #Anger #AngerManagement ',\n",
       " '4. #black #abstractart #art #artlife #artist #artist #artistsoninstagram #artcollector #angel #artwork #anger #artgallery #artlover 一息☕️ついて。 #dank #meIci #Gracias #Obrigado #감사합니다 #謝謝 #Thankyou🖤 #ありがとうございました🙇\\u200d ',\n",
       " '5. #black #abstractart #art #artlife #artist #artist #artistsoninstagram #artcollector #angel #artwork #anger #artgallery #artlover 一息☕️ついて。 #dank #meIci #Gracias #Obrigado #감사합니다 #謝謝 #Thankyou🖤 #ありがとうございました🙇\\u200d ',\n",
       " '6.   #acupuncture #earacupuncture #spa #therapist #jenniferyoung #beauty #training #weightloss #hormonebalance #weight #weightlossadvice #mentalhealth #anxiety #sleep #lowmood #autism #anger #adhd #pain #painrelief #hormones #menopause #womenshealth ',\n",
       " \"7. How Buried Anger Leads to Depression &amp; How To Heal   When your #brain is working to suppress #anger, it doesn't have energy to thrive and #depression can result. Here's how u heal.  #mentalhealth #anxiety #emotions #psychology #Mondayblues @HilaryJHendel \",\n",
       " '8. RT @EKRadio_FY: OHLの「Anger」のサビを歌ってもらいました。 すごい！！！ ケンくんちゃんと練習もしてくたんですよ〜〜 #EKradio  #OHL #Anger  @Ken_the_agul',\n",
       " '9. RT @EKRadio_FY: OHLの「Anger」のサビを歌ってもらいました。 すごい！！！ ケンくんちゃんと練習もしてくたんですよ〜〜 #EKradio  #OHL #Anger  @Ken_the_agul',\n",
       " '10. RT @EKRadio_FY: OHLの「Anger」のサビを歌ってもらいました。 すごい！！！ ケンくんちゃんと練習もしてくたんですよ〜〜 #EKradio  #OHL #Anger  @Ken_the_agul',\n",
       " '11. RT @EKRadio_FY: OHLの「Anger」のサビを歌ってもらいました。 すごい！！！ ケンくんちゃんと練習もしてくたんですよ〜〜 #EKradio  #OHL #Anger  @Ken_the_agul',\n",
       " '12. RT @EKRadio_FY: OHLの「Anger」のサビを歌ってもらいました。 すごい！！！ ケンくんちゃんと練習もしてくたんですよ〜〜 #EKradio  #OHL #Anger  @Ken_the_agul',\n",
       " '13. OHLの「Anger」のサビを歌ってもらいました。 すごい！！！ ケンくんちゃんと練習もしてくたんですよ〜〜 #EKradio  #OHL #Anger  @Ken_the_agul',\n",
       " '14. Our latest podcast episode is live! Do you struggle with anger as a Christian? it is something that is my greatest struggle. Join me as I discuss that and what I am going to do about it. #podcast #twgpodcast #talkingwithgod #Chrsitian #anger  ',\n",
       " '15. Can hypnotherapy treat your condition?   #obsessivecompulsivedisorder #panic #attacks #anger #smoking #weight #drinking #weightloss #loseweight #anxiety #depression #insomnia #stress #IBS #habits ',\n",
       " '16. #anger(er) ',\n",
       " '17. Most people bury their anger because they were told it’s “bad.” But unprocessed anger becomes depression, addiction, or regret. #anger',\n",
       " \"18. Anger is natural, you need to understand it's natural so you can move past it. . . #anger #angermanagement \",\n",
       " '19. 📣 New Podcast! \"What is your leadership type in your family\" on @Spreaker #academicpressure #anger #bodyimageissues #bodyshaming #bullying #cyberaddictions #depression #moodswings #obesity #ocd #parenting #parentswithteens #peerpressure #selfesteem ',\n",
       " '20. RT @parentcenterhub: #Irritability &amp; #Anger Can Be Signs of #Depression Depression doesn’t always manifest as a deep and pervasive #Sadness…',\n",
       " '21. #Irritability &amp; #Anger Can Be Signs of #Depression Depression doesn’t always manifest as a deep and pervasive #Sadness. Many children experience it as irritability or anger — but it can be difficult to distinguish from typical #Teenage angst ',\n",
       " '22. إدارة #الغضب يمكن أن تكون تحديًا، ولكن تعلم تقنيات التحكم به مثل التنفس العميق أو أخذ استراحة قد يساعد في تقليل تأثيراته السلبية. الاعتراف بالغضب هو أول خطوة نحو التحكم فيه. تعلم كيف تتحكم بغضبك بشكل أفضل في هذا المقال: #dailymedicalinfo #anger   ',\n",
       " '23. #Anger ',\n",
       " '24. RT @SSogutma71664: 📲 Sitedeki WhatsApp’tan çekinmeden 7/24 ulaş! 🌐   ✨🔮💬  #ebersberg #ismaning #unterhaching #garchi…',\n",
       " '25. 📲 Sitedeki WhatsApp’tan çekinmeden 7/24 ulaş! 🌐   ✨🔮💬  #ebersberg #ismaning #unterhaching #garching #anger #frauenkirche #hofbräuhaus #viktualienmarkt #rindermarkt #altehalle #weinstraße #theatinerstraße #residenzstraße #dienerstraße #orlandostraße ',\n",
       " '26. #verseoftheday #Proverbs25v21to22 #showkindnesstoyourenemy #killthemwithkindness #endangerwithkindness #bitterness #anger #loveyourenemy #love #forgive #mercy #grace #yourcharacter #consecratedtoGod ',\n",
       " '27. ❤️Mine #KeanuReeves, “There are too many things of 2014…” In 2014, You Did #KnockKnock and I BECAME #ANGER… I RETALIATED: In 2014, You Had 2x XXX Breaking-In! O Mine, THERE ARE TOO MANY THINGS TO LIST… but ABOVE ALL… while I’m away, please focus on the one attached…❤️#Eve.❤️ ',\n",
       " '28. Strategies for mindset shift, inner peace &amp; life excellence⚡️(LIVE SESSION)  #Anxiety #IntrovertBehavior #ComfortZone #Anger #SelfDoubt #multitaskingefficiency #mindfulness #mentalwellbeing #growthmindset ',\n",
       " '29. LAS LENGUAS INGLESA Y ESPAÑOLA de Delfín Carbonell: ENFADADÍSIMO - EXCEEDINGLY ANGRY  @lorrainecladish #spanishidioms #anger #enfado #modismosingleses ',\n",
       " '30. @realDonaldTrump all these 🇪🇺🏴\\u200d☠️🔵🇺🇳#lunatics, are rushing to steal public money, to implement a lot of nonsense, thinking that they will create a wall that will protect them from #Trump and the #anger of the #crowd, but it will be too late',\n",
       " \"31. #epidemiologiamdpi ✨Today's paper recommendation  #Resilience #Anger and #Insomnia in #Nurses after the End of the #Pandemic Crisis  🔎More details:  #epidemiology #OpenAccess \",\n",
       " '32. Γνώμη κόμματος 👇🏻  - Στο $BTC, $SPX, $NQ θεωρώ ότι είμαστε μεταξύ στην φάση ανάμεσα σε #Euphoria &amp; #Complacency, ίσως δούμε ακόμη leg down μέχρι recovery για double top ή και νέο ATH  - Στα #Alts είμαστε σε φάση #Panic &amp; #Capitulation, σε μερικά ίσως και ανάμεσα σε #Anger &amp; ',\n",
       " '33. RT @Crypto_PASOK: Γνώμη κόμματος 👇🏻  - Στο $BTC, $SPX, $NQ θεωρώ ότι είμαστε μεταξύ στην φάση ανάμεσα σε #Euphoria &amp; #Complacency, αναμένω…',\n",
       " '34. Γνώμη κόμματος 👇🏻  - Στο $BTC, $SPX, $NQ θεωρώ ότι είμαστε μεταξύ στην φάση ανάμεσα σε #Euphoria &amp; #Complacency, αναμένω ένα ακόμη leg down μέχρι recovery για double top ή και νέο ATH  - Στα #Alts είμαστε σε φάση #Panic &amp; #Capitulation, σε μερικά ίσως και ανάμεσα σε #Anger &amp; ',\n",
       " '35. Γνώμη κόμματος 👇🏻  - Στο $BTC, $SPX, $NQ θεωρώ ότι είμαστε μεταξύ στην φάση ανάμεσα σε #Euphoria &amp; #Complacency, αναμένω ένα ακόμη leg down μέχρι recovery για double top.  - Στα #Alts είμαστε σε φάση #Panic &amp; #Capitulation, σε μερικά ίσως και ανάμεσα σε #Anger &amp; #Depression. ',\n",
       " '36. #Oniverse Livraisons de vos produits favoris dans les villes de France #paris #toulouse #nice #anger #lorien #Montpellier #Strasbourg #Bordeaux #Lille #Rennes #Reims #Toulon #Saint_Étienne #Marseille   Snap 👻: tonyroyalbeuh ',\n",
       " '37. [Video] #roadrage #driving #traffic #anger #MentalHealth #..._42858  ',\n",
       " '38. I wanna kill you and destroy you. I want you died. #scene #anger #fuck #die #hatered',\n",
       " '39. RT @_Isht0_: No sé si comen, pero si lo hacen me imagino tipo: #InsideOutfanart  #insideout #brickstar #joy #anger ',\n",
       " '40. #religion #buddha #anger #post #ThePost ',\n",
       " '41. #Impeach #HandsOff #Anger #Trump  ',\n",
       " '42. EASY WAYS TO EASE ANGER  #Book #BooksWorthReading #Books #Bookstagram #Easy #EasywaystoEaseAnger #ways #Ease #Anger #Education #America #usa ',\n",
       " '43. RT @SunsetBats: It’s safer to feel nothing at all…. #insideout2 #Ennui #Anger #Trauma ',\n",
       " \"44. #Republican #senator floats using #violence against #journalists who report '#fake #news' - @NBCNews  \\u2066@SenMullin\\u2069 is the most recent #example of what #toxic #masculinity looks like in the #US: intense #anger; #arrogance; #hostility &amp; #inhumanity! \",\n",
       " '45. RT @221cMori: ANGNUI JUMPSCARE hes yapping about firehawks or something  #insideout2 #insideout2fanart #ennui #anger ',\n",
       " '46. RT @SunsetBats: I still think of them daily, your honor #InsideOut2 #anger #Ennui #Angernnui ',\n",
       " \"47. Na my dear cubs n babycubs.. u must remember that only God can #answer #prayers n IT IS #SIN 2try2STOP any1 frm praying2God.. Such #commotion/#disruption may get u your #salary frm your #sponsors BUT R you OK to bear God's #wrath/#anger for yourself/your family/generations2come?! \",\n",
       " '48. RT @JDharmaQuotes: The very purpose of religion ~ 14th Dalai Lama   #14thDalaiLama #jealousy #anger #pride ',\n",
       " '49. Anger is temporary madness. It manages everything badly!  Proverbs 14:17  Pastor Daniel Murage  #goc #globalonlinechurch #beautifulfeet #fypシ゚ #fyp #tiktok #viral #sammieeyo #jccechanginglives #anger #bitterness #pstdanielmurage ',\n",
       " '50. 👇👇👍👍🎯🎯 #revenge #pettiness #anger #Trump #noonelovesthebuffoon #Canada ']"
      ]
     },
     "execution_count": 19,
     "metadata": {},
     "output_type": "execute_result"
    }
   ],
   "source": [
    "df_fear_clean2[:50]"
   ]
  },
  {
   "cell_type": "code",
   "execution_count": 8,
   "id": "cebea61d-b604-40ae-a16e-af14179bc830",
   "metadata": {},
   "outputs": [],
   "source": [
    "# clean RT\n",
    "df_fear_clean3 = []\n",
    "\n",
    "for tweet in df_fear_clean2:\n",
    "    # Split prefix and text\n",
    "    prefix, text = tweet.split('. ', 1)\n",
    "    prefix = prefix.strip() + '. '\n",
    "\n",
    "    # Remove leading RT @username (with or without colon or comma)\n",
    "    cleaned_text = re.sub(r'^rt @\\w+\\b[:,]? ?', '', text, flags=re.I)\n",
    "\n",
    "    # Combine prefix and cleaned text\n",
    "    df_fear_clean3.append(prefix + cleaned_text)"
   ]
  },
  {
   "cell_type": "code",
   "execution_count": 20,
   "id": "4c163ac7-2046-4e7d-96d3-091358df6eaa",
   "metadata": {},
   "outputs": [
    {
     "data": {
      "text/plain": [
       "['1. Great courses that allow parents to share and journey together. Only a few spaces left on each of the courses. Don’t miss out #parenting #support #journey #additionalneeds #anger #family #charity ',\n",
       " '2. ❤️Mine #KeanuReeves, My #Own Father, He Tells It In His OWN Language I Am #Wife… It Is Just A Word To Him, But It #Angers Me… If I Leave Him: HE WILL BE ALONE… THERE WILL BE NO ONE TO TAKE CARE OF HIM, NOR TO HELP HIM DO HIS WORK… Sometimes He is #ANGER that You #Summoned Me: ',\n",
       " '3. Big March for Furious Frank! #Autism #ADHD #AutismBooms #AutismAwarenessMonth #Anger #AngerManagement ',\n",
       " '4. #black #abstractart #art #artlife #artist #artist #artistsoninstagram #artcollector #angel #artwork #anger #artgallery #artlover 一息☕️ついて。 #dank #meIci #Gracias #Obrigado #감사합니다 #謝謝 #Thankyou🖤 #ありがとうございました🙇\\u200d ',\n",
       " '5. #black #abstractart #art #artlife #artist #artist #artistsoninstagram #artcollector #angel #artwork #anger #artgallery #artlover 一息☕️ついて。 #dank #meIci #Gracias #Obrigado #감사합니다 #謝謝 #Thankyou🖤 #ありがとうございました🙇\\u200d ',\n",
       " '6.   #acupuncture #earacupuncture #spa #therapist #jenniferyoung #beauty #training #weightloss #hormonebalance #weight #weightlossadvice #mentalhealth #anxiety #sleep #lowmood #autism #anger #adhd #pain #painrelief #hormones #menopause #womenshealth ',\n",
       " \"7. How Buried Anger Leads to Depression &amp; How To Heal   When your #brain is working to suppress #anger, it doesn't have energy to thrive and #depression can result. Here's how u heal.  #mentalhealth #anxiety #emotions #psychology #Mondayblues @HilaryJHendel \",\n",
       " '8. OHLの「Anger」のサビを歌ってもらいました。 すごい！！！ ケンくんちゃんと練習もしてくたんですよ〜〜 #EKradio  #OHL #Anger  @Ken_the_agul',\n",
       " '9. OHLの「Anger」のサビを歌ってもらいました。 すごい！！！ ケンくんちゃんと練習もしてくたんですよ〜〜 #EKradio  #OHL #Anger  @Ken_the_agul',\n",
       " '10. OHLの「Anger」のサビを歌ってもらいました。 すごい！！！ ケンくんちゃんと練習もしてくたんですよ〜〜 #EKradio  #OHL #Anger  @Ken_the_agul',\n",
       " '11. OHLの「Anger」のサビを歌ってもらいました。 すごい！！！ ケンくんちゃんと練習もしてくたんですよ〜〜 #EKradio  #OHL #Anger  @Ken_the_agul',\n",
       " '12. OHLの「Anger」のサビを歌ってもらいました。 すごい！！！ ケンくんちゃんと練習もしてくたんですよ〜〜 #EKradio  #OHL #Anger  @Ken_the_agul',\n",
       " '13. OHLの「Anger」のサビを歌ってもらいました。 すごい！！！ ケンくんちゃんと練習もしてくたんですよ〜〜 #EKradio  #OHL #Anger  @Ken_the_agul',\n",
       " '14. Our latest podcast episode is live! Do you struggle with anger as a Christian? it is something that is my greatest struggle. Join me as I discuss that and what I am going to do about it. #podcast #twgpodcast #talkingwithgod #Chrsitian #anger  ',\n",
       " '15. Can hypnotherapy treat your condition?   #obsessivecompulsivedisorder #panic #attacks #anger #smoking #weight #drinking #weightloss #loseweight #anxiety #depression #insomnia #stress #IBS #habits ',\n",
       " '16. #anger(er) ',\n",
       " '17. Most people bury their anger because they were told it’s “bad.” But unprocessed anger becomes depression, addiction, or regret. #anger',\n",
       " \"18. Anger is natural, you need to understand it's natural so you can move past it. . . #anger #angermanagement \",\n",
       " '19. 📣 New Podcast! \"What is your leadership type in your family\" on @Spreaker #academicpressure #anger #bodyimageissues #bodyshaming #bullying #cyberaddictions #depression #moodswings #obesity #ocd #parenting #parentswithteens #peerpressure #selfesteem ',\n",
       " '20. #Irritability &amp; #Anger Can Be Signs of #Depression Depression doesn’t always manifest as a deep and pervasive #Sadness…',\n",
       " '21. #Irritability &amp; #Anger Can Be Signs of #Depression Depression doesn’t always manifest as a deep and pervasive #Sadness. Many children experience it as irritability or anger — but it can be difficult to distinguish from typical #Teenage angst ',\n",
       " '22. إدارة #الغضب يمكن أن تكون تحديًا، ولكن تعلم تقنيات التحكم به مثل التنفس العميق أو أخذ استراحة قد يساعد في تقليل تأثيراته السلبية. الاعتراف بالغضب هو أول خطوة نحو التحكم فيه. تعلم كيف تتحكم بغضبك بشكل أفضل في هذا المقال: #dailymedicalinfo #anger   ',\n",
       " '23. #Anger ',\n",
       " '24. 📲 Sitedeki WhatsApp’tan çekinmeden 7/24 ulaş! 🌐   ✨🔮💬  #ebersberg #ismaning #unterhaching #garchi…',\n",
       " '25. 📲 Sitedeki WhatsApp’tan çekinmeden 7/24 ulaş! 🌐   ✨🔮💬  #ebersberg #ismaning #unterhaching #garching #anger #frauenkirche #hofbräuhaus #viktualienmarkt #rindermarkt #altehalle #weinstraße #theatinerstraße #residenzstraße #dienerstraße #orlandostraße ',\n",
       " '26. #verseoftheday #Proverbs25v21to22 #showkindnesstoyourenemy #killthemwithkindness #endangerwithkindness #bitterness #anger #loveyourenemy #love #forgive #mercy #grace #yourcharacter #consecratedtoGod ',\n",
       " '27. ❤️Mine #KeanuReeves, “There are too many things of 2014…” In 2014, You Did #KnockKnock and I BECAME #ANGER… I RETALIATED: In 2014, You Had 2x XXX Breaking-In! O Mine, THERE ARE TOO MANY THINGS TO LIST… but ABOVE ALL… while I’m away, please focus on the one attached…❤️#Eve.❤️ ',\n",
       " '28. Strategies for mindset shift, inner peace &amp; life excellence⚡️(LIVE SESSION)  #Anxiety #IntrovertBehavior #ComfortZone #Anger #SelfDoubt #multitaskingefficiency #mindfulness #mentalwellbeing #growthmindset ',\n",
       " '29. LAS LENGUAS INGLESA Y ESPAÑOLA de Delfín Carbonell: ENFADADÍSIMO - EXCEEDINGLY ANGRY  @lorrainecladish #spanishidioms #anger #enfado #modismosingleses ',\n",
       " '30. @realDonaldTrump all these 🇪🇺🏴\\u200d☠️🔵🇺🇳#lunatics, are rushing to steal public money, to implement a lot of nonsense, thinking that they will create a wall that will protect them from #Trump and the #anger of the #crowd, but it will be too late',\n",
       " \"31. #epidemiologiamdpi ✨Today's paper recommendation  #Resilience #Anger and #Insomnia in #Nurses after the End of the #Pandemic Crisis  🔎More details:  #epidemiology #OpenAccess \",\n",
       " '32. Γνώμη κόμματος 👇🏻  - Στο $BTC, $SPX, $NQ θεωρώ ότι είμαστε μεταξύ στην φάση ανάμεσα σε #Euphoria &amp; #Complacency, ίσως δούμε ακόμη leg down μέχρι recovery για double top ή και νέο ATH  - Στα #Alts είμαστε σε φάση #Panic &amp; #Capitulation, σε μερικά ίσως και ανάμεσα σε #Anger &amp; ',\n",
       " '33. Γνώμη κόμματος 👇🏻  - Στο $BTC, $SPX, $NQ θεωρώ ότι είμαστε μεταξύ στην φάση ανάμεσα σε #Euphoria &amp; #Complacency, αναμένω…',\n",
       " '34. Γνώμη κόμματος 👇🏻  - Στο $BTC, $SPX, $NQ θεωρώ ότι είμαστε μεταξύ στην φάση ανάμεσα σε #Euphoria &amp; #Complacency, αναμένω ένα ακόμη leg down μέχρι recovery για double top ή και νέο ATH  - Στα #Alts είμαστε σε φάση #Panic &amp; #Capitulation, σε μερικά ίσως και ανάμεσα σε #Anger &amp; ',\n",
       " '35. Γνώμη κόμματος 👇🏻  - Στο $BTC, $SPX, $NQ θεωρώ ότι είμαστε μεταξύ στην φάση ανάμεσα σε #Euphoria &amp; #Complacency, αναμένω ένα ακόμη leg down μέχρι recovery για double top.  - Στα #Alts είμαστε σε φάση #Panic &amp; #Capitulation, σε μερικά ίσως και ανάμεσα σε #Anger &amp; #Depression. ',\n",
       " '36. #Oniverse Livraisons de vos produits favoris dans les villes de France #paris #toulouse #nice #anger #lorien #Montpellier #Strasbourg #Bordeaux #Lille #Rennes #Reims #Toulon #Saint_Étienne #Marseille   Snap 👻: tonyroyalbeuh ',\n",
       " '37. [Video] #roadrage #driving #traffic #anger #MentalHealth #..._42858  ',\n",
       " '38. I wanna kill you and destroy you. I want you died. #scene #anger #fuck #die #hatered',\n",
       " '39. No sé si comen, pero si lo hacen me imagino tipo: #InsideOutfanart  #insideout #brickstar #joy #anger ',\n",
       " '40. #religion #buddha #anger #post #ThePost ',\n",
       " '41. #Impeach #HandsOff #Anger #Trump  ',\n",
       " '42. EASY WAYS TO EASE ANGER  #Book #BooksWorthReading #Books #Bookstagram #Easy #EasywaystoEaseAnger #ways #Ease #Anger #Education #America #usa ',\n",
       " '43. It’s safer to feel nothing at all…. #insideout2 #Ennui #Anger #Trauma ',\n",
       " \"44. #Republican #senator floats using #violence against #journalists who report '#fake #news' - @NBCNews  \\u2066@SenMullin\\u2069 is the most recent #example of what #toxic #masculinity looks like in the #US: intense #anger; #arrogance; #hostility &amp; #inhumanity! \",\n",
       " '45. ANGNUI JUMPSCARE hes yapping about firehawks or something  #insideout2 #insideout2fanart #ennui #anger ',\n",
       " '46. I still think of them daily, your honor #InsideOut2 #anger #Ennui #Angernnui ',\n",
       " \"47. Na my dear cubs n babycubs.. u must remember that only God can #answer #prayers n IT IS #SIN 2try2STOP any1 frm praying2God.. Such #commotion/#disruption may get u your #salary frm your #sponsors BUT R you OK to bear God's #wrath/#anger for yourself/your family/generations2come?! \",\n",
       " '48. The very purpose of religion ~ 14th Dalai Lama   #14thDalaiLama #jealousy #anger #pride ',\n",
       " '49. Anger is temporary madness. It manages everything badly!  Proverbs 14:17  Pastor Daniel Murage  #goc #globalonlinechurch #beautifulfeet #fypシ゚ #fyp #tiktok #viral #sammieeyo #jccechanginglives #anger #bitterness #pstdanielmurage ',\n",
       " '50. 👇👇👍👍🎯🎯 #revenge #pettiness #anger #Trump #noonelovesthebuffoon #Canada ']"
      ]
     },
     "execution_count": 20,
     "metadata": {},
     "output_type": "execute_result"
    }
   ],
   "source": [
    "df_fear_clean3[:50]"
   ]
  },
  {
   "cell_type": "code",
   "execution_count": 10,
   "id": "6927091b-1c01-4c24-accf-1aeb63b0cdfe",
   "metadata": {},
   "outputs": [],
   "source": [
    "# all to lower case\n",
    "df_fear_clean4 = [tweet.lower() for tweet in df_fear_clean3]"
   ]
  },
  {
   "cell_type": "code",
   "execution_count": 21,
   "id": "aa0c659b-2f33-4e18-8183-41631f6a7150",
   "metadata": {},
   "outputs": [
    {
     "data": {
      "text/plain": [
       "['1. great courses that allow parents to share and journey together. only a few spaces left on each of the courses. don’t miss out #parenting #support #journey #additionalneeds #anger #family #charity ',\n",
       " '2. ❤️mine #keanureeves, my #own father, he tells it in his own language i am #wife… it is just a word to him, but it #angers me… if i leave him: he will be alone… there will be no one to take care of him, nor to help him do his work… sometimes he is #anger that you #summoned me: ',\n",
       " '3. big march for furious frank! #autism #adhd #autismbooms #autismawarenessmonth #anger #angermanagement ',\n",
       " '4. #black #abstractart #art #artlife #artist #artist #artistsoninstagram #artcollector #angel #artwork #anger #artgallery #artlover 一息☕️ついて。 #dank #meici #gracias #obrigado #감사합니다 #謝謝 #thankyou🖤 #ありがとうございました🙇\\u200d ',\n",
       " '5. #black #abstractart #art #artlife #artist #artist #artistsoninstagram #artcollector #angel #artwork #anger #artgallery #artlover 一息☕️ついて。 #dank #meici #gracias #obrigado #감사합니다 #謝謝 #thankyou🖤 #ありがとうございました🙇\\u200d ',\n",
       " '6.   #acupuncture #earacupuncture #spa #therapist #jenniferyoung #beauty #training #weightloss #hormonebalance #weight #weightlossadvice #mentalhealth #anxiety #sleep #lowmood #autism #anger #adhd #pain #painrelief #hormones #menopause #womenshealth ',\n",
       " \"7. how buried anger leads to depression &amp; how to heal   when your #brain is working to suppress #anger, it doesn't have energy to thrive and #depression can result. here's how u heal.  #mentalhealth #anxiety #emotions #psychology #mondayblues @hilaryjhendel \",\n",
       " '8. ohlの「anger」のサビを歌ってもらいました。 すごい！！！ ケンくんちゃんと練習もしてくたんですよ〜〜 #ekradio  #ohl #anger  @ken_the_agul',\n",
       " '9. ohlの「anger」のサビを歌ってもらいました。 すごい！！！ ケンくんちゃんと練習もしてくたんですよ〜〜 #ekradio  #ohl #anger  @ken_the_agul',\n",
       " '10. ohlの「anger」のサビを歌ってもらいました。 すごい！！！ ケンくんちゃんと練習もしてくたんですよ〜〜 #ekradio  #ohl #anger  @ken_the_agul',\n",
       " '11. ohlの「anger」のサビを歌ってもらいました。 すごい！！！ ケンくんちゃんと練習もしてくたんですよ〜〜 #ekradio  #ohl #anger  @ken_the_agul',\n",
       " '12. ohlの「anger」のサビを歌ってもらいました。 すごい！！！ ケンくんちゃんと練習もしてくたんですよ〜〜 #ekradio  #ohl #anger  @ken_the_agul',\n",
       " '13. ohlの「anger」のサビを歌ってもらいました。 すごい！！！ ケンくんちゃんと練習もしてくたんですよ〜〜 #ekradio  #ohl #anger  @ken_the_agul',\n",
       " '14. our latest podcast episode is live! do you struggle with anger as a christian? it is something that is my greatest struggle. join me as i discuss that and what i am going to do about it. #podcast #twgpodcast #talkingwithgod #chrsitian #anger  ',\n",
       " '15. can hypnotherapy treat your condition?   #obsessivecompulsivedisorder #panic #attacks #anger #smoking #weight #drinking #weightloss #loseweight #anxiety #depression #insomnia #stress #ibs #habits ',\n",
       " '16. #anger(er) ',\n",
       " '17. most people bury their anger because they were told it’s “bad.” but unprocessed anger becomes depression, addiction, or regret. #anger',\n",
       " \"18. anger is natural, you need to understand it's natural so you can move past it. . . #anger #angermanagement \",\n",
       " '19. 📣 new podcast! \"what is your leadership type in your family\" on @spreaker #academicpressure #anger #bodyimageissues #bodyshaming #bullying #cyberaddictions #depression #moodswings #obesity #ocd #parenting #parentswithteens #peerpressure #selfesteem ',\n",
       " '20. #irritability &amp; #anger can be signs of #depression depression doesn’t always manifest as a deep and pervasive #sadness…',\n",
       " '21. #irritability &amp; #anger can be signs of #depression depression doesn’t always manifest as a deep and pervasive #sadness. many children experience it as irritability or anger — but it can be difficult to distinguish from typical #teenage angst ',\n",
       " '22. إدارة #الغضب يمكن أن تكون تحديًا، ولكن تعلم تقنيات التحكم به مثل التنفس العميق أو أخذ استراحة قد يساعد في تقليل تأثيراته السلبية. الاعتراف بالغضب هو أول خطوة نحو التحكم فيه. تعلم كيف تتحكم بغضبك بشكل أفضل في هذا المقال: #dailymedicalinfo #anger   ',\n",
       " '23. #anger ',\n",
       " '24. 📲 sitedeki whatsapp’tan çekinmeden 7/24 ulaş! 🌐   ✨🔮💬  #ebersberg #ismaning #unterhaching #garchi…',\n",
       " '25. 📲 sitedeki whatsapp’tan çekinmeden 7/24 ulaş! 🌐   ✨🔮💬  #ebersberg #ismaning #unterhaching #garching #anger #frauenkirche #hofbräuhaus #viktualienmarkt #rindermarkt #altehalle #weinstraße #theatinerstraße #residenzstraße #dienerstraße #orlandostraße ',\n",
       " '26. #verseoftheday #proverbs25v21to22 #showkindnesstoyourenemy #killthemwithkindness #endangerwithkindness #bitterness #anger #loveyourenemy #love #forgive #mercy #grace #yourcharacter #consecratedtogod ',\n",
       " '27. ❤️mine #keanureeves, “there are too many things of 2014…” in 2014, you did #knockknock and i became #anger… i retaliated: in 2014, you had 2x xxx breaking-in! o mine, there are too many things to list… but above all… while i’m away, please focus on the one attached…❤️#eve.❤️ ',\n",
       " '28. strategies for mindset shift, inner peace &amp; life excellence⚡️(live session)  #anxiety #introvertbehavior #comfortzone #anger #selfdoubt #multitaskingefficiency #mindfulness #mentalwellbeing #growthmindset ',\n",
       " '29. las lenguas inglesa y española de delfín carbonell: enfadadísimo - exceedingly angry  @lorrainecladish #spanishidioms #anger #enfado #modismosingleses ',\n",
       " '30. @realdonaldtrump all these 🇪🇺🏴\\u200d☠️🔵🇺🇳#lunatics, are rushing to steal public money, to implement a lot of nonsense, thinking that they will create a wall that will protect them from #trump and the #anger of the #crowd, but it will be too late',\n",
       " \"31. #epidemiologiamdpi ✨today's paper recommendation  #resilience #anger and #insomnia in #nurses after the end of the #pandemic crisis  🔎more details:  #epidemiology #openaccess \",\n",
       " '32. γνώμη κόμματος 👇🏻  - στο $btc, $spx, $nq θεωρώ ότι είμαστε μεταξύ στην φάση ανάμεσα σε #euphoria &amp; #complacency, ίσως δούμε ακόμη leg down μέχρι recovery για double top ή και νέο ath  - στα #alts είμαστε σε φάση #panic &amp; #capitulation, σε μερικά ίσως και ανάμεσα σε #anger &amp; ',\n",
       " '33. γνώμη κόμματος 👇🏻  - στο $btc, $spx, $nq θεωρώ ότι είμαστε μεταξύ στην φάση ανάμεσα σε #euphoria &amp; #complacency, αναμένω…',\n",
       " '34. γνώμη κόμματος 👇🏻  - στο $btc, $spx, $nq θεωρώ ότι είμαστε μεταξύ στην φάση ανάμεσα σε #euphoria &amp; #complacency, αναμένω ένα ακόμη leg down μέχρι recovery για double top ή και νέο ath  - στα #alts είμαστε σε φάση #panic &amp; #capitulation, σε μερικά ίσως και ανάμεσα σε #anger &amp; ',\n",
       " '35. γνώμη κόμματος 👇🏻  - στο $btc, $spx, $nq θεωρώ ότι είμαστε μεταξύ στην φάση ανάμεσα σε #euphoria &amp; #complacency, αναμένω ένα ακόμη leg down μέχρι recovery για double top.  - στα #alts είμαστε σε φάση #panic &amp; #capitulation, σε μερικά ίσως και ανάμεσα σε #anger &amp; #depression. ',\n",
       " '36. #oniverse livraisons de vos produits favoris dans les villes de france #paris #toulouse #nice #anger #lorien #montpellier #strasbourg #bordeaux #lille #rennes #reims #toulon #saint_étienne #marseille   snap 👻: tonyroyalbeuh ',\n",
       " '37. [video] #roadrage #driving #traffic #anger #mentalhealth #..._42858  ',\n",
       " '38. i wanna kill you and destroy you. i want you died. #scene #anger #fuck #die #hatered',\n",
       " '39. no sé si comen, pero si lo hacen me imagino tipo: #insideoutfanart  #insideout #brickstar #joy #anger ',\n",
       " '40. #religion #buddha #anger #post #thepost ',\n",
       " '41. #impeach #handsoff #anger #trump  ',\n",
       " '42. easy ways to ease anger  #book #booksworthreading #books #bookstagram #easy #easywaystoeaseanger #ways #ease #anger #education #america #usa ',\n",
       " '43. it’s safer to feel nothing at all…. #insideout2 #ennui #anger #trauma ',\n",
       " \"44. #republican #senator floats using #violence against #journalists who report '#fake #news' - @nbcnews  \\u2066@senmullin\\u2069 is the most recent #example of what #toxic #masculinity looks like in the #us: intense #anger; #arrogance; #hostility &amp; #inhumanity! \",\n",
       " '45. angnui jumpscare hes yapping about firehawks or something  #insideout2 #insideout2fanart #ennui #anger ',\n",
       " '46. i still think of them daily, your honor #insideout2 #anger #ennui #angernnui ',\n",
       " \"47. na my dear cubs n babycubs.. u must remember that only god can #answer #prayers n it is #sin 2try2stop any1 frm praying2god.. such #commotion/#disruption may get u your #salary frm your #sponsors but r you ok to bear god's #wrath/#anger for yourself/your family/generations2come?! \",\n",
       " '48. the very purpose of religion ~ 14th dalai lama   #14thdalailama #jealousy #anger #pride ',\n",
       " '49. anger is temporary madness. it manages everything badly!  proverbs 14:17  pastor daniel murage  #goc #globalonlinechurch #beautifulfeet #fypシ゚ #fyp #tiktok #viral #sammieeyo #jccechanginglives #anger #bitterness #pstdanielmurage ',\n",
       " '50. 👇👇👍👍🎯🎯 #revenge #pettiness #anger #trump #noonelovesthebuffoon #canada ']"
      ]
     },
     "execution_count": 21,
     "metadata": {},
     "output_type": "execute_result"
    }
   ],
   "source": [
    "df_fear_clean4[:50]"
   ]
  },
  {
   "cell_type": "code",
   "execution_count": 12,
   "id": "a818d13f-fea3-458e-9dcf-0fd8a3c0996b",
   "metadata": {},
   "outputs": [],
   "source": [
    "df_fear_clean5 = []\n",
    "\n",
    "for tweet in df_fear_clean4:\n",
    "    prefix, text = tweet.split('. ', 1)  \n",
    "    prefix = prefix.strip() + '. '     \n",
    "    \n",
    "    cleaned_text = re.sub(r'[^a-zA-Z0-9\\s.,!?\\'\"#@-]', '', text)\n",
    "    df_fear_clean5.append(prefix + cleaned_text)"
   ]
  },
  {
   "cell_type": "code",
   "execution_count": 22,
   "id": "b0641826-88ad-4e65-9792-4bf334c9a7ea",
   "metadata": {},
   "outputs": [
    {
     "data": {
      "text/plain": [
       "['1. great courses that allow parents to share and journey together. only a few spaces left on each of the courses. dont miss out #parenting #support #journey #additionalneeds #anger #family #charity ',\n",
       " '2. mine #keanureeves, my #own father, he tells it in his own language i am #wife it is just a word to him, but it #angers me if i leave him he will be alone there will be no one to take care of him, nor to help him do his work sometimes he is #anger that you #summoned me ',\n",
       " '3. big march for furious frank! #autism #adhd #autismbooms #autismawarenessmonth #anger #angermanagement ',\n",
       " '4. #black #abstractart #art #artlife #artist #artist #artistsoninstagram #artcollector #angel #artwork #anger #artgallery #artlover  #dank #meici #gracias #obrigado # # #thankyou # ',\n",
       " '5. #black #abstractart #art #artlife #artist #artist #artistsoninstagram #artcollector #angel #artwork #anger #artgallery #artlover  #dank #meici #gracias #obrigado # # #thankyou # ',\n",
       " '6.   #acupuncture #earacupuncture #spa #therapist #jenniferyoung #beauty #training #weightloss #hormonebalance #weight #weightlossadvice #mentalhealth #anxiety #sleep #lowmood #autism #anger #adhd #pain #painrelief #hormones #menopause #womenshealth ',\n",
       " \"7. how buried anger leads to depression amp how to heal   when your #brain is working to suppress #anger, it doesn't have energy to thrive and #depression can result. here's how u heal.  #mentalhealth #anxiety #emotions #psychology #mondayblues @hilaryjhendel \",\n",
       " '8. ohlanger   #ekradio  #ohl #anger  @kentheagul',\n",
       " '9. ohlanger   #ekradio  #ohl #anger  @kentheagul',\n",
       " '10. ohlanger   #ekradio  #ohl #anger  @kentheagul',\n",
       " '11. ohlanger   #ekradio  #ohl #anger  @kentheagul',\n",
       " '12. ohlanger   #ekradio  #ohl #anger  @kentheagul',\n",
       " '13. ohlanger   #ekradio  #ohl #anger  @kentheagul',\n",
       " '14. our latest podcast episode is live! do you struggle with anger as a christian? it is something that is my greatest struggle. join me as i discuss that and what i am going to do about it. #podcast #twgpodcast #talkingwithgod #chrsitian #anger  ',\n",
       " '15. can hypnotherapy treat your condition?   #obsessivecompulsivedisorder #panic #attacks #anger #smoking #weight #drinking #weightloss #loseweight #anxiety #depression #insomnia #stress #ibs #habits ',\n",
       " '16. #angerer ',\n",
       " '17. most people bury their anger because they were told its bad. but unprocessed anger becomes depression, addiction, or regret. #anger',\n",
       " \"18. anger is natural, you need to understand it's natural so you can move past it. . . #anger #angermanagement \",\n",
       " '19.  new podcast! \"what is your leadership type in your family\" on @spreaker #academicpressure #anger #bodyimageissues #bodyshaming #bullying #cyberaddictions #depression #moodswings #obesity #ocd #parenting #parentswithteens #peerpressure #selfesteem ',\n",
       " '20. #irritability amp #anger can be signs of #depression depression doesnt always manifest as a deep and pervasive #sadness',\n",
       " '21. #irritability amp #anger can be signs of #depression depression doesnt always manifest as a deep and pervasive #sadness. many children experience it as irritability or anger  but it can be difficult to distinguish from typical #teenage angst ',\n",
       " '22.  #                     .        .          #dailymedicalinfo #anger   ',\n",
       " '23. #anger ',\n",
       " '24.  sitedeki whatsapptan ekinmeden 724 ula!      #ebersberg #ismaning #unterhaching #garchi',\n",
       " '25.  sitedeki whatsapptan ekinmeden 724 ula!      #ebersberg #ismaning #unterhaching #garching #anger #frauenkirche #hofbruhaus #viktualienmarkt #rindermarkt #altehalle #weinstrae #theatinerstrae #residenzstrae #dienerstrae #orlandostrae ',\n",
       " '26. #verseoftheday #proverbs25v21to22 #showkindnesstoyourenemy #killthemwithkindness #endangerwithkindness #bitterness #anger #loveyourenemy #love #forgive #mercy #grace #yourcharacter #consecratedtogod ',\n",
       " '27. mine #keanureeves, there are too many things of 2014 in 2014, you did #knockknock and i became #anger i retaliated in 2014, you had 2x xxx breaking-in! o mine, there are too many things to list but above all while im away, please focus on the one attached#eve. ',\n",
       " '28. strategies for mindset shift, inner peace amp life excellencelive session  #anxiety #introvertbehavior #comfortzone #anger #selfdoubt #multitaskingefficiency #mindfulness #mentalwellbeing #growthmindset ',\n",
       " '29. las lenguas inglesa y espaola de delfn carbonell enfadadsimo - exceedingly angry  @lorrainecladish #spanishidioms #anger #enfado #modismosingleses ',\n",
       " '30. @realdonaldtrump all these #lunatics, are rushing to steal public money, to implement a lot of nonsense, thinking that they will create a wall that will protect them from #trump and the #anger of the #crowd, but it will be too late',\n",
       " \"31. #epidemiologiamdpi today's paper recommendation  #resilience #anger and #insomnia in #nurses after the end of the #pandemic crisis  more details  #epidemiology #openaccess \",\n",
       " '32.     -  btc, spx, nq         #euphoria amp #complacency,    leg down  recovery  double top    ath  -  #alts    #panic amp #capitulation,       #anger amp ',\n",
       " '33.     -  btc, spx, nq         #euphoria amp #complacency, ',\n",
       " '34.     -  btc, spx, nq         #euphoria amp #complacency,    leg down  recovery  double top    ath  -  #alts    #panic amp #capitulation,       #anger amp ',\n",
       " '35.     -  btc, spx, nq         #euphoria amp #complacency,    leg down  recovery  double top.  -  #alts    #panic amp #capitulation,       #anger amp #depression. ',\n",
       " '36. #oniverse livraisons de vos produits favoris dans les villes de france #paris #toulouse #nice #anger #lorien #montpellier #strasbourg #bordeaux #lille #rennes #reims #toulon #sainttienne #marseille   snap  tonyroyalbeuh ',\n",
       " '37. video #roadrage #driving #traffic #anger #mentalhealth #...42858  ',\n",
       " '38. i wanna kill you and destroy you. i want you died. #scene #anger #fuck #die #hatered',\n",
       " '39. no s si comen, pero si lo hacen me imagino tipo #insideoutfanart  #insideout #brickstar #joy #anger ',\n",
       " '40. #religion #buddha #anger #post #thepost ',\n",
       " '41. #impeach #handsoff #anger #trump  ',\n",
       " '42. easy ways to ease anger  #book #booksworthreading #books #bookstagram #easy #easywaystoeaseanger #ways #ease #anger #education #america #usa ',\n",
       " '43. its safer to feel nothing at all. #insideout2 #ennui #anger #trauma ',\n",
       " \"44. #republican #senator floats using #violence against #journalists who report '#fake #news' - @nbcnews  @senmullin is the most recent #example of what #toxic #masculinity looks like in the #us intense #anger #arrogance #hostility amp #inhumanity! \",\n",
       " '45. angnui jumpscare hes yapping about firehawks or something  #insideout2 #insideout2fanart #ennui #anger ',\n",
       " '46. i still think of them daily, your honor #insideout2 #anger #ennui #angernnui ',\n",
       " \"47. na my dear cubs n babycubs.. u must remember that only god can #answer #prayers n it is #sin 2try2stop any1 frm praying2god.. such #commotion#disruption may get u your #salary frm your #sponsors but r you ok to bear god's #wrath#anger for yourselfyour familygenerations2come?! \",\n",
       " '48. the very purpose of religion  14th dalai lama   #14thdalailama #jealousy #anger #pride ',\n",
       " '49. anger is temporary madness. it manages everything badly!  proverbs 1417  pastor daniel murage  #goc #globalonlinechurch #beautifulfeet #fyp #fyp #tiktok #viral #sammieeyo #jccechanginglives #anger #bitterness #pstdanielmurage ',\n",
       " '50.  #revenge #pettiness #anger #trump #noonelovesthebuffoon #canada ']"
      ]
     },
     "execution_count": 22,
     "metadata": {},
     "output_type": "execute_result"
    }
   ],
   "source": [
    "df_fear_clean5[:50]"
   ]
  },
  {
   "cell_type": "code",
   "execution_count": 14,
   "id": "25d23084-40dc-4e96-ab04-c803f0d6c80b",
   "metadata": {},
   "outputs": [],
   "source": [
    "# # remove hashtags\n",
    "# df_fear_clean6 = []\n",
    "\n",
    "# for tweet in df_fear_clean5:\n",
    "#     # Split prefix and text\n",
    "#     prefix, text = tweet.split('. ', 1)\n",
    "#     prefix = prefix.strip() + '. '\n",
    "\n",
    "#     # Remove hashtags: matches '#' followed by letters/numbers/underscores\n",
    "#     cleaned_text = re.sub(r'#\\w+', '', text)\n",
    "\n",
    "#     # Remove extra spaces left behind\n",
    "#     cleaned_text = re.sub(r'\\s{2,}', ' ', cleaned_text).strip()\n",
    "\n",
    "#     # Combine prefix and cleaned text\n",
    "#     df_fear_clean6.append(prefix + cleaned_text)"
   ]
  },
  {
   "cell_type": "code",
   "execution_count": 15,
   "id": "ddc83f3b-68d5-4238-a057-c597e1e7f015",
   "metadata": {},
   "outputs": [],
   "source": [
    "# df_fear_clean6"
   ]
  },
  {
   "cell_type": "code",
   "execution_count": 17,
   "id": "560b2517-2cec-42cf-916c-1d6611f0b320",
   "metadata": {},
   "outputs": [],
   "source": [
    "with open(\"./dataset/anger_clean5.txt\", \"w\", encoding=\"utf-8\") as f:\n",
    "    for line in df_fear_clean5:\n",
    "        f.write(line + \"\\n\")"
   ]
  },
  {
   "cell_type": "code",
   "execution_count": null,
   "id": "440367bc-b302-4c73-b860-4ec69d443f13",
   "metadata": {},
   "outputs": [],
   "source": []
  },
  {
   "cell_type": "code",
   "execution_count": null,
   "id": "48749bc5-5b1d-4740-8353-c989270193aa",
   "metadata": {},
   "outputs": [],
   "source": []
  }
 ],
 "metadata": {
  "kernelspec": {
   "display_name": "torch",
   "language": "python",
   "name": "torch"
  },
  "language_info": {
   "codemirror_mode": {
    "name": "ipython",
    "version": 3
   },
   "file_extension": ".py",
   "mimetype": "text/x-python",
   "name": "python",
   "nbconvert_exporter": "python",
   "pygments_lexer": "ipython3",
   "version": "3.10.16"
  }
 },
 "nbformat": 4,
 "nbformat_minor": 5
}
